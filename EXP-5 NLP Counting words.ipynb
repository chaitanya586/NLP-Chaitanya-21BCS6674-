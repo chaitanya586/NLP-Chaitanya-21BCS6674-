{
 "cells": [
  {
   "cell_type": "code",
   "execution_count": 1,
   "id": "1a6dbb28",
   "metadata": {},
   "outputs": [
    {
     "name": "stdout",
     "output_type": "stream",
     "text": [
      "Please enter the text: hi how are you\n",
      "hi: 1\n",
      "how: 1\n",
      "are: 1\n",
      "you: 1\n"
     ]
    }
   ],
   "source": [
    "import re\n",
    "from collections import Counter\n",
    "\n",
    "def tokenize_text(text):\n",
    "    # Tokenize text by splitting on non-alphanumeric characters and converting to lowercase\n",
    "    words = re.findall(r'\\b\\w+\\b', text.lower())\n",
    "    return words\n",
    "\n",
    "def count_words(words):\n",
    "    # Count frequency of words\n",
    "    word_count = Counter(words)\n",
    "    return word_count\n",
    "\n",
    "def main():\n",
    "    # Get input text from the user\n",
    "    input_text = input(\"Please enter the text: \")\n",
    "\n",
    "    # Tokenize the input text\n",
    "    words = tokenize_text(input_text)\n",
    "\n",
    "    # Count the frequency of words\n",
    "    word_count = count_words(words)\n",
    "\n",
    "    # Display the frequency of each word\n",
    "    for word, count in word_count.items():\n",
    "        print(f'{word}: {count}')\n",
    "\n",
    "if __name__ == \"__main__\":\n",
    "    main()\n"
   ]
  },
  {
   "cell_type": "code",
   "execution_count": null,
   "id": "bffaff2f",
   "metadata": {},
   "outputs": [],
   "source": []
  }
 ],
 "metadata": {
  "kernelspec": {
   "display_name": "Python 3 (ipykernel)",
   "language": "python",
   "name": "python3"
  },
  "language_info": {
   "codemirror_mode": {
    "name": "ipython",
    "version": 3
   },
   "file_extension": ".py",
   "mimetype": "text/x-python",
   "name": "python",
   "nbconvert_exporter": "python",
   "pygments_lexer": "ipython3",
   "version": "3.11.5"
  }
 },
 "nbformat": 4,
 "nbformat_minor": 5
}
