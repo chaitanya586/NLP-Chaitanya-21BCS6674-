{
 "cells": [
  {
   "cell_type": "code",
   "execution_count": 1,
   "id": "eeab68cf",
   "metadata": {},
   "outputs": [
    {
     "name": "stderr",
     "output_type": "stream",
     "text": [
      "[nltk_data] Downloading package punkt to C:\\Users\\Chaitanya\n",
      "[nltk_data]     Sivamani\\AppData\\Roaming\\nltk_data...\n",
      "[nltk_data]   Package punkt is already up-to-date!\n",
      "[nltk_data] Downloading package stopwords to C:\\Users\\Chaitanya\n",
      "[nltk_data]     Sivamani\\AppData\\Roaming\\nltk_data...\n",
      "[nltk_data]   Package stopwords is already up-to-date!\n"
     ]
    },
    {
     "name": "stdout",
     "output_type": "stream",
     "text": [
      "Enter the text to be summarized:\n",
      "Natural language processing (NLP) is a subfield of linguistics, computer science, and artificial intelligence  concerned with the interactions between computers and human language, in particular how to program computers  to process and analyze large amounts of natural language data. Challenges in natural language processing  frequently involve speech recognition, natural language understanding, and natural language generation.  Tokenization is the process of breaking text into words, phrases, symbols, or other meaningful elements called tokens.  The list of tokens becomes input for further processing, such as parsing or text mining. Tokenization is useful both  in linguistics (where it is a form of text segmentation) and in computer science, where it forms part of lexical analysis. \n",
      "Summary:\n",
      "Natural language processing (NLP) is a subfield of linguistics, computer science, and artificial intelligence  concerned with the interactions between computers and human language, in particular how to program computers  to process and analyze large amounts of natural language data. Challenges in natural language processing  frequently involve speech recognition, natural language understanding, and natural language generation.\n"
     ]
    }
   ],
   "source": [
    "import nltk\n",
    "from nltk.corpus import stopwords\n",
    "from nltk.tokenize import word_tokenize\n",
    "from sklearn.feature_extraction.text import TfidfVectorizer\n",
    "from sklearn.metrics.pairwise import cosine_similarity\n",
    "\n",
    "nltk.download('punkt')\n",
    "nltk.download('stopwords')\n",
    "\n",
    "def preprocess_text(text):\n",
    "    tokens = word_tokenize(text)\n",
    "    tokens = [token.lower() for token in tokens]\n",
    "    stop_words = set(stopwords.words('english'))\n",
    "    filtered_tokens = [token for token in tokens if token not in stop_words]\n",
    "    preprocessed_text = ' '.join(filtered_tokens)\n",
    "    return preprocessed_text\n",
    "\n",
    "def generate_summary(text, num_sentences=2):\n",
    "    preprocessed_text = preprocess_text(text)\n",
    "    \n",
    "    tfidf_vectorizer = TfidfVectorizer()\n",
    "    tfidf_matrix = tfidf_vectorizer.fit_transform([preprocessed_text, text])\n",
    "    \n",
    "    similarity_matrix = cosine_similarity(tfidf_matrix, tfidf_matrix)\n",
    "    ranked_sentences = sorted(range(len(similarity_matrix[0])), key=lambda x: similarity_matrix[0][x], reverse=True)\n",
    "    summary = ' '.join([nltk.sent_tokenize(text)[i] for i in ranked_sentences[:num_sentences]])\n",
    "    return summary\n",
    "\n",
    "\n",
    "user_text = input(\"Enter the text to be summarized:\\n\")\n",
    "\n",
    "summary = generate_summary(user_text)\n",
    "print(\"Summary:\")\n",
    "print(summary)\n"
   ]
  },
  {
   "cell_type": "code",
   "execution_count": null,
   "id": "3d968076",
   "metadata": {},
   "outputs": [],
   "source": []
  }
 ],
 "metadata": {
  "kernelspec": {
   "display_name": "Python 3 (ipykernel)",
   "language": "python",
   "name": "python3"
  },
  "language_info": {
   "codemirror_mode": {
    "name": "ipython",
    "version": 3
   },
   "file_extension": ".py",
   "mimetype": "text/x-python",
   "name": "python",
   "nbconvert_exporter": "python",
   "pygments_lexer": "ipython3",
   "version": "3.11.5"
  }
 },
 "nbformat": 4,
 "nbformat_minor": 5
}
