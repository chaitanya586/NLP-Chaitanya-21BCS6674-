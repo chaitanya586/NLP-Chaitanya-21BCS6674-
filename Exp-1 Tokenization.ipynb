{
 "cells": [
  {
   "cell_type": "code",
   "execution_count": 1,
   "id": "ed527b33",
   "metadata": {},
   "outputs": [],
   "source": [
    "import nltk\n",
    "from nltk.tokenize import word_tokenize, sent_tokenize, regexp_tokenize, TweetTokenizer"
   ]
  },
  {
   "cell_type": "code",
   "execution_count": 2,
   "id": "2cc3df1a",
   "metadata": {},
   "outputs": [
    {
     "name": "stderr",
     "output_type": "stream",
     "text": [
      "[nltk_data] Downloading package punkt to\n",
      "[nltk_data]     C:\\Users\\admin\\AppData\\Roaming\\nltk_data...\n",
      "[nltk_data]   Package punkt is already up-to-date!\n"
     ]
    },
    {
     "data": {
      "text/plain": [
       "True"
      ]
     },
     "execution_count": 2,
     "metadata": {},
     "output_type": "execute_result"
    }
   ],
   "source": [
    "# Download NLTK data (if not already downloaded)\n",
    "nltk.download('punkt')"
   ]
  },
  {
   "cell_type": "code",
   "execution_count": 8,
   "id": "12c0bed9",
   "metadata": {},
   "outputs": [
    {
     "name": "stdout",
     "output_type": "stream",
     "text": [
      "Enter your text: sanchary is learning nlp# tokenizatio,,,\n"
     ]
    }
   ],
   "source": [
    "# Sample text\n",
    "text = input(\"Enter your text: \")"
   ]
  },
  {
   "cell_type": "code",
   "execution_count": 9,
   "id": "dadcf42b",
   "metadata": {},
   "outputs": [
    {
     "name": "stdout",
     "output_type": "stream",
     "text": [
      "Word Tokenization:\n",
      "['sanchary', 'is', 'learning', 'nlp', '#', 'tokenizatio', ',', ',', ',']\n"
     ]
    }
   ],
   "source": [
    "# Word Tokenization\n",
    "word_tokens = word_tokenize(text)\n",
    "print(\"Word Tokenization:\")\n",
    "print(word_tokens)"
   ]
  },
  {
   "cell_type": "code",
   "execution_count": 10,
   "id": "39c7cb08",
   "metadata": {},
   "outputs": [
    {
     "name": "stdout",
     "output_type": "stream",
     "text": [
      "\n",
      "Sentence Tokenization:\n",
      "['sanchary is learning nlp# tokenizatio,,,']\n"
     ]
    }
   ],
   "source": [
    "# Sentence Tokenization\n",
    "sent_tokens = sent_tokenize(text)\n",
    "print(\"\\nSentence Tokenization:\")\n",
    "print(sent_tokens)"
   ]
  },
  {
   "cell_type": "code",
   "execution_count": 11,
   "id": "3a7fc985",
   "metadata": {},
   "outputs": [
    {
     "name": "stdout",
     "output_type": "stream",
     "text": [
      "\n",
      "RegExp Tokenization:\n",
      "['sanchary', 'is', 'learning', 'nlp', '#', 'tokenizatio', ',,,']\n"
     ]
    }
   ],
   "source": [
    "# Regular Expression Tokenization\n",
    "# Tokenizing based on non-alphanumeric characters\n",
    "regexp_tokens = regexp_tokenize(text, pattern=r'\\w+|\\$[\\d\\.]+|\\S+')\n",
    "print(\"\\nRegExp Tokenization:\")\n",
    "print(regexp_tokens)\n"
   ]
  },
  {
   "cell_type": "code",
   "execution_count": 12,
   "id": "ac2aa05e",
   "metadata": {},
   "outputs": [
    {
     "name": "stdout",
     "output_type": "stream",
     "text": [
      "\n",
      "Tweet Tokenization:\n",
      "['sanchary', 'is', 'learning', 'nlp', '#', 'tokenizatio', ',', ',', ',']\n"
     ]
    }
   ],
   "source": [
    "# Tweet Tokenization (handles Twitter-specific tokens like hashtags, mentions, etc.)\n",
    "tweet_tokenizer = TweetTokenizer()\n",
    "tweet_tokens = tweet_tokenizer.tokenize(text)\n",
    "print(\"\\nTweet Tokenization:\")\n",
    "print(tweet_tokens)"
   ]
  },
  {
   "cell_type": "code",
   "execution_count": null,
   "id": "2f0520d1",
   "metadata": {},
   "outputs": [],
   "source": []
  }
 ],
 "metadata": {
  "kernelspec": {
   "display_name": "Python 3 (ipykernel)",
   "language": "python",
   "name": "python3"
  },
  "language_info": {
   "codemirror_mode": {
    "name": "ipython",
    "version": 3
   },
   "file_extension": ".py",
   "mimetype": "text/x-python",
   "name": "python",
   "nbconvert_exporter": "python",
   "pygments_lexer": "ipython3",
   "version": "3.10.9"
  }
 },
 "nbformat": 4,
 "nbformat_minor": 5
}
